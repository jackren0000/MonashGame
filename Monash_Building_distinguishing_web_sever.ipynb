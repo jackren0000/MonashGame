{
  "nbformat": 4,
  "nbformat_minor": 0,
  "metadata": {
    "colab": {
      "private_outputs": true,
      "provenance": []
    },
    "kernelspec": {
      "name": "python3",
      "display_name": "Python 3"
    },
    "language_info": {
      "name": "python"
    }
  },
  "cells": [
    {
      "cell_type": "markdown",
      "source": [
        "**Mount to Google Drive**"
      ],
      "metadata": {
        "id": "Bkgwis8wZGkU"
      }
    },
    {
      "cell_type": "code",
      "source": [
        "from google.colab import drive\n",
        "drive.mount('/content/drive')"
      ],
      "metadata": {
        "id": "TnTXdk9UYm4D"
      },
      "execution_count": null,
      "outputs": []
    },
    {
      "cell_type": "code",
      "source": [
        "cd /content/drive/MyDrive/MonashBuildings/"
      ],
      "metadata": {
        "id": "YLgS-ht7Y2m8"
      },
      "execution_count": null,
      "outputs": []
    },
    {
      "cell_type": "code",
      "execution_count": null,
      "metadata": {
        "id": "sGeT2yFJWg3v"
      },
      "outputs": [],
      "source": [
        "# flask is a Python library that lets you develop web servers.\n",
        "from flask import Flask, request\n",
        "import torch\n",
        "from PIL import Image\n",
        "from torchvision import transforms"
      ]
    },
    {
      "cell_type": "code",
      "source": [
        "app = Flask(__name__)\n",
        "model = torch.load('CNN_model.pth')\n",
        "\n",
        "@app.route('/predict', methods=['POST'])\n",
        "def predict():\n",
        "  file= request.files['file']\n",
        "  image = Image.open(file.stream)\n",
        "  transform = transforms.Compose(\n",
        "      [transforms.Resize(224, 224),\n",
        "       transforms.ToTensor()])\n",
        "  image = transform(image)\n",
        "  image = image.unsqueeze(0)\n",
        "  output = model(image)\n",
        "  _, predicted = torch.max(output, 1)\n",
        "  return {'prediction': int(predicted)}\n",
        "\n",
        "if __name__ == '__main__':\n",
        "  app.run(debug = True)"
      ],
      "metadata": {
        "id": "c8nh1Y59YmP2"
      },
      "execution_count": null,
      "outputs": []
    },
    {
      "cell_type": "code",
      "source": [
        "import requests\n",
        "\n",
        "# The local URL where the Flask app is running\n",
        "url = \"http://127.0.0.1:5000/predict\"\n",
        "\n",
        "# Open and read the image file\n",
        "with open('./train/Monash Hargrave Andrew Library/img0.jpg', 'rb') as f:\n",
        "    img = f.read()\n",
        "\n",
        "# Create a dictionary to send in the HTTP request\n",
        "files = {\"file\": img}\n",
        "\n",
        "# Send the POST request\n",
        "response = requests.post(url, files=files)\n",
        "\n",
        "# Print the prediction\n",
        "print(response.json())\n"
      ],
      "metadata": {
        "id": "SBhJZ-9xZR8d"
      },
      "execution_count": null,
      "outputs": []
    },
    {
      "cell_type": "code",
      "source": [],
      "metadata": {
        "id": "FZaSAHtclbVD"
      },
      "execution_count": null,
      "outputs": []
    }
  ]
}